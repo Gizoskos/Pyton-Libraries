{
  "nbformat": 4,
  "nbformat_minor": 0,
  "metadata": {
    "colab": {
      "provenance": [],
      "authorship_tag": "ABX9TyM92zA71sWsCD639iHWRuGQ",
      "include_colab_link": true
    },
    "kernelspec": {
      "name": "python3",
      "display_name": "Python 3"
    },
    "language_info": {
      "name": "python"
    }
  },
  "cells": [
    {
      "cell_type": "markdown",
      "metadata": {
        "id": "view-in-github",
        "colab_type": "text"
      },
      "source": [
        "<a href=\"https://colab.research.google.com/github/Gizoskos/Pyton-Libraries/blob/main/First.ipynb\" target=\"_parent\"><img src=\"https://colab.research.google.com/assets/colab-badge.svg\" alt=\"Open In Colab\"/></a>"
      ]
    },
    {
      "cell_type": "code",
      "execution_count": null,
      "metadata": {
        "id": "3wcpTB92iDBg"
      },
      "outputs": [],
      "source": []
    },
    {
      "cell_type": "markdown",
      "source": [
        "# NumPy nedir?"
      ],
      "metadata": {
        "id": "Xo-a05JDizTC"
      }
    },
    {
      "cell_type": "code",
      "source": [
        "# shit enter or f5\n",
        "##NumPy açık kaynak kodlu ücretsiz ve özgür bir pytohn kütüphanesidir.\n",
        "#Numerical Python anlamına gelir. Sayılarla daha hızlı mat işlemleri yapmamızı sağlar.\n",
        "# NumPy kütüphanesinin en temel elemanı arrayleridr.\n",
        "# Arrayleri Python dizilerinin çok boyutlu olanı gibi düşünebiliriz.\n",
        "# Arrayler listelerden yaklaşık 50 kat daha hızlı çalışır.\n",
        "# NumPy arraylerinin hızlı çalışmasının sebebi C ve C++ ile yazılmış olmasıdır."
      ],
      "metadata": {
        "id": "JUYcYzWpjAgV"
      },
      "execution_count": null,
      "outputs": []
    },
    {
      "cell_type": "code",
      "source": [
        "# import numpy as np\n",
        "import numpy as np"
      ],
      "metadata": {
        "id": "JMr3VmLmkU8F"
      },
      "execution_count": null,
      "outputs": []
    },
    {
      "cell_type": "markdown",
      "source": [
        "NumPy arrayleri oluşturma"
      ],
      "metadata": {
        "id": "CJDmGjRSkr22"
      }
    },
    {
      "cell_type": "code",
      "source": [
        "# Arrayler çok boyutlu diziler gibidir.\n",
        "# 0d (constant), 1d, 2d, 3d, 4d ...\n",
        "\n",
        "# Arrayleri oluşturmanın 3 farklı yolu vardır.\n",
        "# 1- Liste ya da tuplee benzeri nesneleri arraye dönüştürebiliriz. np.array([1, 2, 3])\n",
        "# 2- Built-in hazır fonksiyonlar yardımıyla arrayler oluşturulabilir.  np.arange(), np.linspace(), np.logspace() -Verileri logaritmik artışlarla oluşturur.- vb.\n",
        "# 3- Rastgele data üreterek.   np.random modülün içindeki fonksiyonlar yardımıyla "
      ],
      "metadata": {
        "id": "D39YIhMnkwTm"
      },
      "execution_count": null,
      "outputs": []
    },
    {
      "cell_type": "code",
      "source": [
        "arr0d = np.array(53) #köşeli parantez sayısı kadar boyut vardır.\n",
        "arr0d # son ifadeyi print gibi algılar."
      ],
      "metadata": {
        "colab": {
          "base_uri": "https://localhost:8080/"
        },
        "id": "npou4D7EmH5b",
        "outputId": "6673f7ce-51bb-4247-dfdf-bdab93950a77"
      },
      "execution_count": null,
      "outputs": [
        {
          "output_type": "execute_result",
          "data": {
            "text/plain": [
              "array(53)"
            ]
          },
          "metadata": {},
          "execution_count": 3
        }
      ]
    },
    {
      "cell_type": "code",
      "source": [
        "arr1d = np.array([1, 2, 3, 4])"
      ],
      "metadata": {
        "id": "tK7zmcKYmMoB"
      },
      "execution_count": null,
      "outputs": []
    },
    {
      "cell_type": "code",
      "source": [
        "arr2d = np.array([[1,2,3] , [4, 5, 6]])\n",
        "arr2d"
      ],
      "metadata": {
        "colab": {
          "base_uri": "https://localhost:8080/"
        },
        "id": "8zduEMwtmnIt",
        "outputId": "3c3f34ae-a132-4c6b-939a-487ec4e7b868"
      },
      "execution_count": null,
      "outputs": [
        {
          "output_type": "execute_result",
          "data": {
            "text/plain": [
              "array([[1, 2, 3],\n",
              "       [4, 5, 6]])"
            ]
          },
          "metadata": {},
          "execution_count": 7
        }
      ]
    },
    {
      "cell_type": "code",
      "source": [
        "arr3d = np.array([[[1,2,3], [4,5,6]], [[7,8,9],[100,200,300]]])\n",
        "arr3d\n"
      ],
      "metadata": {
        "colab": {
          "base_uri": "https://localhost:8080/"
        },
        "id": "K1QFR3rEmzJj",
        "outputId": "310cb797-94f5-4a1d-92aa-00ac24ab15d3"
      },
      "execution_count": null,
      "outputs": [
        {
          "output_type": "execute_result",
          "data": {
            "text/plain": [
              "array([[[  1,   2,   3],\n",
              "        [  4,   5,   6]],\n",
              "\n",
              "       [[  7,   8,   9],\n",
              "        [100, 200, 300]]])"
            ]
          },
          "metadata": {},
          "execution_count": 10
        }
      ]
    },
    {
      "cell_type": "code",
      "source": [
        "#Soru : 2d array"
      ],
      "metadata": {
        "id": "musb8RNjnrGN"
      },
      "execution_count": null,
      "outputs": []
    },
    {
      "cell_type": "code",
      "source": [
        "arr2d = np.array([[8,8,7],[2,4,5]])\n",
        "arr2d"
      ],
      "metadata": {
        "colab": {
          "base_uri": "https://localhost:8080/"
        },
        "id": "EO7OFFY2nuRN",
        "outputId": "733c33da-9598-45e3-9598-4f9373585ea8"
      },
      "execution_count": null,
      "outputs": [
        {
          "output_type": "execute_result",
          "data": {
            "text/plain": [
              "array([[8, 8, 7],\n",
              "       [2, 4, 5]])"
            ]
          },
          "metadata": {},
          "execution_count": 12
        }
      ]
    },
    {
      "cell_type": "markdown",
      "source": [
        "Built-in Functionlarla Hızlıca NumPy Arrayleri oluşturma\n"
      ],
      "metadata": {
        "id": "roDZMlFMopCZ"
      }
    },
    {
      "cell_type": "code",
      "source": [
        "# np.arrange() fonksiyonu ile hızlıca arrayler oluşturulabilir. İstenilen sayı aralığında ardışık artan arrayler oluşurulur.\n",
        "# range() gibi kullanımı. Start point dahil, End point dahil değil, \n",
        "# start stop step parametrelerini alır range() fonsiyonuna benzer şekilde."
      ],
      "metadata": {
        "id": "lxS5QfeEoxd2"
      },
      "execution_count": null,
      "outputs": []
    },
    {
      "cell_type": "code",
      "source": [
        "np.array([1,2,3,4,5])"
      ],
      "metadata": {
        "colab": {
          "base_uri": "https://localhost:8080/"
        },
        "id": "BdTINWi3pT5c",
        "outputId": "8770e751-3b27-4379-c3f2-8f92385f023d"
      },
      "execution_count": null,
      "outputs": [
        {
          "output_type": "execute_result",
          "data": {
            "text/plain": [
              "array([1, 2, 3, 4, 5])"
            ]
          },
          "metadata": {},
          "execution_count": 13
        }
      ]
    },
    {
      "cell_type": "code",
      "source": [
        "np.arange(1,10)"
      ],
      "metadata": {
        "colab": {
          "base_uri": "https://localhost:8080/"
        },
        "id": "ELcHq5IIpj8u",
        "outputId": "2cbd9061-e229-40b1-e207-a6604dc98288"
      },
      "execution_count": null,
      "outputs": [
        {
          "output_type": "execute_result",
          "data": {
            "text/plain": [
              "array([1, 2, 3, 4, 5, 6, 7, 8, 9])"
            ]
          },
          "metadata": {},
          "execution_count": 16
        }
      ]
    },
    {
      "cell_type": "code",
      "source": [
        "np.arange(1,30,2)"
      ],
      "metadata": {
        "colab": {
          "base_uri": "https://localhost:8080/"
        },
        "id": "orfiBhLipmiA",
        "outputId": "f1893052-ead3-420b-bb23-1dcea305c316"
      },
      "execution_count": null,
      "outputs": [
        {
          "output_type": "execute_result",
          "data": {
            "text/plain": [
              "array([ 1,  3,  5,  7,  9, 11, 13, 15, 17, 19, 21, 23, 25, 27, 29])"
            ]
          },
          "metadata": {},
          "execution_count": 18
        }
      ]
    },
    {
      "cell_type": "code",
      "source": [
        "# np. linspace() fonskiyonuyla da hızlıca arrayler oluşturulabilir. (kaç tane veri döndüreceğini söyleriz) //float"
      ],
      "metadata": {
        "id": "xx_AKQAZpvqh"
      },
      "execution_count": null,
      "outputs": []
    },
    {
      "cell_type": "code",
      "source": [
        "np.linspace(30,60,6, dtype = int) #endpoint dahil"
      ],
      "metadata": {
        "colab": {
          "base_uri": "https://localhost:8080/"
        },
        "id": "xWQh_0Vbp8SH",
        "outputId": "6ec3a164-c045-4b9f-fe42-e3285af9ff95"
      },
      "execution_count": null,
      "outputs": [
        {
          "output_type": "execute_result",
          "data": {
            "text/plain": [
              "array([30, 36, 42, 48, 54, 60])"
            ]
          },
          "metadata": {},
          "execution_count": 23
        }
      ]
    },
    {
      "cell_type": "code",
      "source": [
        "np.logspace(1,3,10) #üçüncü kaç tane oluşturulacağı 10*1 10*3 arası"
      ],
      "metadata": {
        "colab": {
          "base_uri": "https://localhost:8080/"
        },
        "id": "d0nJbfQwqAf1",
        "outputId": "a04eadac-3da7-4ee4-84bf-97edb9eabb36"
      },
      "execution_count": null,
      "outputs": [
        {
          "output_type": "execute_result",
          "data": {
            "text/plain": [
              "array([  10.        ,   16.68100537,   27.82559402,   46.41588834,\n",
              "         77.42636827,  129.1549665 ,  215.443469  ,  359.38136638,\n",
              "        599.48425032, 1000.        ])"
            ]
          },
          "metadata": {},
          "execution_count": 22
        }
      ]
    },
    {
      "cell_type": "code",
      "source": [
        "# Soru : 10,15,20,25....100 şeklindeki arrayi oluşturunuz."
      ],
      "metadata": {
        "id": "_WbumJ46qMBp"
      },
      "execution_count": null,
      "outputs": []
    },
    {
      "cell_type": "code",
      "source": [
        "np.arange(10,101,5)"
      ],
      "metadata": {
        "colab": {
          "base_uri": "https://localhost:8080/"
        },
        "id": "TF8OGjS1q4oT",
        "outputId": "14e71be2-613c-4a0e-af05-1152bedd5a07"
      },
      "execution_count": null,
      "outputs": [
        {
          "output_type": "execute_result",
          "data": {
            "text/plain": [
              "array([ 10,  15,  20,  25,  30,  35,  40,  45,  50,  55,  60,  65,  70,\n",
              "        75,  80,  85,  90,  95, 100])"
            ]
          },
          "metadata": {},
          "execution_count": 24
        }
      ]
    },
    {
      "cell_type": "code",
      "source": [
        "np.linspace(0,1000,26)"
      ],
      "metadata": {
        "colab": {
          "base_uri": "https://localhost:8080/"
        },
        "id": "I5BE_72oq_Ou",
        "outputId": "bd58efb1-f58d-40ba-941b-39cc32a6b27e"
      },
      "execution_count": null,
      "outputs": [
        {
          "output_type": "execute_result",
          "data": {
            "text/plain": [
              "array([   0.,   40.,   80.,  120.,  160.,  200.,  240.,  280.,  320.,\n",
              "        360.,  400.,  440.,  480.,  520.,  560.,  600.,  640.,  680.,\n",
              "        720.,  760.,  800.,  840.,  880.,  920.,  960., 1000.])"
            ]
          },
          "metadata": {},
          "execution_count": 31
        }
      ]
    },
    {
      "cell_type": "code",
      "source": [
        "np.zeros(5, dtype = 'int')"
      ],
      "metadata": {
        "colab": {
          "base_uri": "https://localhost:8080/"
        },
        "id": "Mnny6aZlrkl4",
        "outputId": "7a6c0de7-cfd9-402a-f668-027d1b83411d"
      },
      "execution_count": null,
      "outputs": [
        {
          "output_type": "execute_result",
          "data": {
            "text/plain": [
              "array([0, 0, 0, 0, 0])"
            ]
          },
          "metadata": {},
          "execution_count": 29
        }
      ]
    },
    {
      "cell_type": "code",
      "source": [
        "np.zeros((2,3), dtype = int)  # 0 lardan oluşan array"
      ],
      "metadata": {
        "colab": {
          "base_uri": "https://localhost:8080/"
        },
        "id": "5aaZ_8XysWtB",
        "outputId": "86fa792f-6c7f-4323-fe76-25008655ff29"
      },
      "execution_count": null,
      "outputs": [
        {
          "output_type": "execute_result",
          "data": {
            "text/plain": [
              "array([[0, 0, 0],\n",
              "       [0, 0, 0]])"
            ]
          },
          "metadata": {},
          "execution_count": 30
        }
      ]
    },
    {
      "cell_type": "code",
      "source": [
        "np.ones(10, dtype = int)"
      ],
      "metadata": {
        "colab": {
          "base_uri": "https://localhost:8080/"
        },
        "id": "cCpxBWw_scVY",
        "outputId": "11d63805-3333-438c-e795-db51fd0bec6b"
      },
      "execution_count": null,
      "outputs": [
        {
          "output_type": "execute_result",
          "data": {
            "text/plain": [
              "array([1, 1, 1, 1, 1, 1, 1, 1, 1, 1])"
            ]
          },
          "metadata": {},
          "execution_count": 32
        }
      ]
    },
    {
      "cell_type": "code",
      "source": [
        "np.ones((3,5), dtype = int) # 3 satır 5 sütun"
      ],
      "metadata": {
        "colab": {
          "base_uri": "https://localhost:8080/"
        },
        "id": "XrYxGf2-wXKf",
        "outputId": "7c55db8f-e7f1-4c78-f226-3b9febb45469"
      },
      "execution_count": null,
      "outputs": [
        {
          "output_type": "execute_result",
          "data": {
            "text/plain": [
              "array([[1, 1, 1, 1, 1],\n",
              "       [1, 1, 1, 1, 1],\n",
              "       [1, 1, 1, 1, 1]])"
            ]
          },
          "metadata": {},
          "execution_count": 33
        }
      ]
    },
    {
      "cell_type": "code",
      "source": [
        "np.ones((2,3,5), dtype = int)"
      ],
      "metadata": {
        "colab": {
          "base_uri": "https://localhost:8080/"
        },
        "id": "PkGeSTAIwgVG",
        "outputId": "7d647f7b-9c6a-4f74-f8e7-02a36e00fe7d"
      },
      "execution_count": null,
      "outputs": [
        {
          "output_type": "execute_result",
          "data": {
            "text/plain": [
              "array([[[1, 1, 1, 1, 1],\n",
              "        [1, 1, 1, 1, 1],\n",
              "        [1, 1, 1, 1, 1]],\n",
              "\n",
              "       [[1, 1, 1, 1, 1],\n",
              "        [1, 1, 1, 1, 1],\n",
              "        [1, 1, 1, 1, 1]]])"
            ]
          },
          "metadata": {},
          "execution_count": 34
        }
      ]
    },
    {
      "cell_type": "code",
      "source": [
        "np.eye(5, dtype = int) # 5x5 birim matrix\n"
      ],
      "metadata": {
        "colab": {
          "base_uri": "https://localhost:8080/"
        },
        "id": "J66Aej27wzEG",
        "outputId": "384c7855-efac-4dd5-c260-c2ad5e06708f"
      },
      "execution_count": null,
      "outputs": [
        {
          "output_type": "execute_result",
          "data": {
            "text/plain": [
              "array([[1, 0, 0, 0, 0],\n",
              "       [0, 1, 0, 0, 0],\n",
              "       [0, 0, 1, 0, 0],\n",
              "       [0, 0, 0, 1, 0],\n",
              "       [0, 0, 0, 0, 1]])"
            ]
          },
          "metadata": {},
          "execution_count": 38
        }
      ]
    },
    {
      "cell_type": "code",
      "source": [
        "# Soru : Sadece 0 değerlerinden oluşan (2,6) formatında array oluşturun."
      ],
      "metadata": {
        "id": "LFtH1kTVw-E8"
      },
      "execution_count": null,
      "outputs": []
    },
    {
      "cell_type": "code",
      "source": [
        "np.zeros((2,6), dtype = int)"
      ],
      "metadata": {
        "colab": {
          "base_uri": "https://localhost:8080/"
        },
        "id": "lnZ-Plf2w_Th",
        "outputId": "e7acb086-e382-4f9d-e80a-1cdf6deddbb6"
      },
      "execution_count": null,
      "outputs": [
        {
          "output_type": "execute_result",
          "data": {
            "text/plain": [
              "array([[0, 0, 0, 0, 0, 0],\n",
              "       [0, 0, 0, 0, 0, 0]])"
            ]
          },
          "metadata": {},
          "execution_count": 37
        }
      ]
    },
    {
      "cell_type": "code",
      "source": [
        "# np.random modülünü kullanarak rastgele arrayler oluşturma"
      ],
      "metadata": {
        "id": "mgQJ5o3lxIEG"
      },
      "execution_count": null,
      "outputs": []
    },
    {
      "cell_type": "code",
      "source": [
        "np.random.rand(3) #parametre kaç tane olacağı 0-1 aralığında"
      ],
      "metadata": {
        "colab": {
          "base_uri": "https://localhost:8080/"
        },
        "id": "9deN10Q8xk36",
        "outputId": "5f342783-3f91-428c-a2bb-7d2fbba7f59d"
      },
      "execution_count": null,
      "outputs": [
        {
          "output_type": "execute_result",
          "data": {
            "text/plain": [
              "array([0.52740935, 0.6804996 , 0.57259993])"
            ]
          },
          "metadata": {},
          "execution_count": 40
        }
      ]
    },
    {
      "cell_type": "code",
      "source": [
        "np.random.rand(2,5) #10 tane random değer döndürür."
      ],
      "metadata": {
        "colab": {
          "base_uri": "https://localhost:8080/"
        },
        "id": "Dde90pPIx6bx",
        "outputId": "db46f6e8-1eb7-4a0d-c503-4cbb180daf6d"
      },
      "execution_count": null,
      "outputs": [
        {
          "output_type": "execute_result",
          "data": {
            "text/plain": [
              "array([[0.81580195, 0.18816857, 0.96968794, 0.49077547, 0.0777624 ],\n",
              "       [0.75654431, 0.51515721, 0.07699286, 0.4048732 , 0.61490925]])"
            ]
          },
          "metadata": {},
          "execution_count": 41
        }
      ]
    },
    {
      "cell_type": "code",
      "source": [
        "np.random.rand(2,5) * 10  #3 tane 0-10 aralığında değerden oluşan arrayler"
      ],
      "metadata": {
        "colab": {
          "base_uri": "https://localhost:8080/"
        },
        "id": "ZBpAqo7CyRO6",
        "outputId": "ce601720-4c5d-4528-b0a7-32bd303e6e29"
      },
      "execution_count": null,
      "outputs": [
        {
          "output_type": "execute_result",
          "data": {
            "text/plain": [
              "array([[1.28288513, 5.72486185, 2.73712195, 9.87883186, 3.09389644],\n",
              "       [1.92821508, 7.89467967, 5.8670022 , 5.34624958, 8.03695909]])"
            ]
          },
          "metadata": {},
          "execution_count": 42
        }
      ]
    },
    {
      "cell_type": "code",
      "source": [
        "np.random.randint(10,50,5) # 10-50 arası 5 tayı"
      ],
      "metadata": {
        "colab": {
          "base_uri": "https://localhost:8080/"
        },
        "id": "FAv-uBXCyWEM",
        "outputId": "da375eec-3994-4293-e448-03588dbe2ede"
      },
      "execution_count": null,
      "outputs": [
        {
          "output_type": "execute_result",
          "data": {
            "text/plain": [
              "array([35, 10, 21, 46, 48])"
            ]
          },
          "metadata": {},
          "execution_count": 43
        }
      ]
    },
    {
      "cell_type": "code",
      "source": [
        "np.random.randint(10,50,(3,6))"
      ],
      "metadata": {
        "colab": {
          "base_uri": "https://localhost:8080/"
        },
        "id": "QpALJTUIyojH",
        "outputId": "d989c95c-a9fc-48bb-f9d6-250dfb21e296"
      },
      "execution_count": null,
      "outputs": [
        {
          "output_type": "execute_result",
          "data": {
            "text/plain": [
              "array([[19, 15, 40, 15, 20, 24],\n",
              "       [36, 24, 49, 49, 28, 29],\n",
              "       [19, 36, 35, 39, 27, 48]])"
            ]
          },
          "metadata": {},
          "execution_count": 44
        }
      ]
    },
    {
      "cell_type": "code",
      "source": [
        "# Soru : 0-50 arasında rastgele sayılardan oluşan 4-6 formatında 24 tane sayıdan oluşan bir array oluşturun."
      ],
      "metadata": {
        "id": "Tw2vbb7Hy4CL"
      },
      "execution_count": null,
      "outputs": []
    },
    {
      "cell_type": "code",
      "source": [
        "np.random.randint(10,50,(4,6))"
      ],
      "metadata": {
        "colab": {
          "base_uri": "https://localhost:8080/"
        },
        "id": "MyRicenFzCkr",
        "outputId": "4a10921f-69d4-44ef-e425-92d03a951bce"
      },
      "execution_count": null,
      "outputs": [
        {
          "output_type": "execute_result",
          "data": {
            "text/plain": [
              "array([[27, 11, 29, 41, 46, 11],\n",
              "       [40, 46, 31, 23, 34, 20],\n",
              "       [16, 46, 34, 31, 24, 40],\n",
              "       [36, 19, 16, 10, 31, 14]])"
            ]
          },
          "metadata": {},
          "execution_count": 47
        }
      ]
    },
    {
      "cell_type": "markdown",
      "source": [
        "Arrayin Boyut Sayısını ve Shape'ini Kontrol Etmek"
      ],
      "metadata": {
        "id": "oeBWMj-pzwCz"
      }
    },
    {
      "cell_type": "code",
      "source": [
        "arr0d"
      ],
      "metadata": {
        "colab": {
          "base_uri": "https://localhost:8080/",
          "height": 165
        },
        "id": "NUc8V-hsz1L_",
        "outputId": "482598fb-d907-4197-ff98-5f7531e68de7"
      },
      "execution_count": null,
      "outputs": [
        {
          "output_type": "error",
          "ename": "NameError",
          "evalue": "ignored",
          "traceback": [
            "\u001b[0;31m---------------------------------------------------------------------------\u001b[0m",
            "\u001b[0;31mNameError\u001b[0m                                 Traceback (most recent call last)",
            "\u001b[0;32m<ipython-input-54-9c327448d162>\u001b[0m in \u001b[0;36m<module>\u001b[0;34m\u001b[0m\n\u001b[0;32m----> 1\u001b[0;31m \u001b[0marr0d\u001b[0m\u001b[0;34m\u001b[0m\u001b[0;34m\u001b[0m\u001b[0m\n\u001b[0m",
            "\u001b[0;31mNameError\u001b[0m: name 'arr0d' is not defined"
          ]
        }
      ]
    },
    {
      "cell_type": "code",
      "source": [
        "arr1d"
      ],
      "metadata": {
        "colab": {
          "base_uri": "https://localhost:8080/"
        },
        "id": "phvJtZ5Wz7hZ",
        "outputId": "d5ccbaf3-9ef8-4f1d-c0fa-daf47e499b28"
      },
      "execution_count": null,
      "outputs": [
        {
          "output_type": "execute_result",
          "data": {
            "text/plain": [
              "array([1, 2, 3, 4])"
            ]
          },
          "metadata": {},
          "execution_count": 50
        }
      ]
    },
    {
      "cell_type": "code",
      "source": [
        "arr3d"
      ],
      "metadata": {
        "colab": {
          "base_uri": "https://localhost:8080/"
        },
        "id": "xLso70_nz9rx",
        "outputId": "fe892cdb-a937-4016-8a48-3d95094d530b"
      },
      "execution_count": null,
      "outputs": [
        {
          "output_type": "execute_result",
          "data": {
            "text/plain": [
              "array([[[  1,   2,   3],\n",
              "        [  4,   5,   6]],\n",
              "\n",
              "       [[  7,   8,   9],\n",
              "        [100, 200, 300]]])"
            ]
          },
          "metadata": {},
          "execution_count": 51
        }
      ]
    },
    {
      "cell_type": "code",
      "source": [
        "arr1d.ndim"
      ],
      "metadata": {
        "colab": {
          "base_uri": "https://localhost:8080/"
        },
        "id": "9ZDcAYnE0AHR",
        "outputId": "f9bc0b86-19a0-4784-c48f-bc9e51694173"
      },
      "execution_count": null,
      "outputs": [
        {
          "output_type": "execute_result",
          "data": {
            "text/plain": [
              "1"
            ]
          },
          "metadata": {},
          "execution_count": 52
        }
      ]
    },
    {
      "cell_type": "code",
      "source": [
        "arr3d.ndim"
      ],
      "metadata": {
        "colab": {
          "base_uri": "https://localhost:8080/"
        },
        "id": "UYPbMnKh0CLl",
        "outputId": "e554dce1-58cb-4a17-af69-817565ed4648"
      },
      "execution_count": null,
      "outputs": [
        {
          "output_type": "execute_result",
          "data": {
            "text/plain": [
              "3"
            ]
          },
          "metadata": {},
          "execution_count": 53
        }
      ]
    },
    {
      "cell_type": "code",
      "source": [],
      "metadata": {
        "id": "7lzpCttW1gso"
      },
      "execution_count": null,
      "outputs": []
    },
    {
      "cell_type": "code",
      "source": [
        "#.shape attribute ' ı ile arrayin shapeine bakılabilir."
      ],
      "metadata": {
        "id": "XCEisLw40Elm"
      },
      "execution_count": null,
      "outputs": []
    },
    {
      "cell_type": "code",
      "source": [
        "arr2d.shape"
      ],
      "metadata": {
        "colab": {
          "base_uri": "https://localhost:8080/"
        },
        "id": "CuFNcNYp0XPB",
        "outputId": "4624b55c-8e54-4699-80db-d67c834092a6"
      },
      "execution_count": null,
      "outputs": [
        {
          "output_type": "execute_result",
          "data": {
            "text/plain": [
              "(2, 3)"
            ]
          },
          "metadata": {},
          "execution_count": 56
        }
      ]
    },
    {
      "cell_type": "code",
      "source": [
        "arr3d"
      ],
      "metadata": {
        "colab": {
          "base_uri": "https://localhost:8080/"
        },
        "id": "RPB8TSp20Ygo",
        "outputId": "8da99d35-76c5-4bad-e9d1-88c335cc8858"
      },
      "execution_count": null,
      "outputs": [
        {
          "output_type": "execute_result",
          "data": {
            "text/plain": [
              "array([[[  1,   2,   3],\n",
              "        [  4,   5,   6]],\n",
              "\n",
              "       [[  7,   8,   9],\n",
              "        [100, 200, 300]]])"
            ]
          },
          "metadata": {},
          "execution_count": 57
        }
      ]
    },
    {
      "cell_type": "code",
      "source": [
        "arr3d.shape # 2 blok sayısı 2 bloktaki satırlar 3 sütun"
      ],
      "metadata": {
        "colab": {
          "base_uri": "https://localhost:8080/"
        },
        "id": "XJGFgH9b0ku0",
        "outputId": "d845275b-0435-462f-912e-be8cfedccfd9"
      },
      "execution_count": null,
      "outputs": [
        {
          "output_type": "execute_result",
          "data": {
            "text/plain": [
              "(2, 2, 3)"
            ]
          },
          "metadata": {},
          "execution_count": 58
        }
      ]
    },
    {
      "cell_type": "markdown",
      "source": [
        "NumPy Arraylerini İndeksleme ve Öğelerine Erişme"
      ],
      "metadata": {
        "id": "Gk3SzVaL03m1"
      }
    },
    {
      "cell_type": "code",
      "source": [
        "arr1d #Bir boyutlu arrayler listeler gibidir."
      ],
      "metadata": {
        "colab": {
          "base_uri": "https://localhost:8080/"
        },
        "id": "q9z9I3rC0mxi",
        "outputId": "2560428a-1b8f-4193-ddc7-b3bf536a3f78"
      },
      "execution_count": null,
      "outputs": [
        {
          "output_type": "execute_result",
          "data": {
            "text/plain": [
              "array([1, 2, 3, 4])"
            ]
          },
          "metadata": {},
          "execution_count": 59
        }
      ]
    },
    {
      "cell_type": "code",
      "source": [
        "arr1d[0]"
      ],
      "metadata": {
        "colab": {
          "base_uri": "https://localhost:8080/"
        },
        "id": "t-RUhLLc0-4e",
        "outputId": "251e5e6a-cb77-4f2a-9698-0b295dab2f4f"
      },
      "execution_count": null,
      "outputs": [
        {
          "output_type": "execute_result",
          "data": {
            "text/plain": [
              "1"
            ]
          },
          "metadata": {},
          "execution_count": 60
        }
      ]
    },
    {
      "cell_type": "code",
      "source": [
        "arr2d"
      ],
      "metadata": {
        "colab": {
          "base_uri": "https://localhost:8080/"
        },
        "id": "bc2TSAxG1JFM",
        "outputId": "b4200196-fab3-4c61-cd3a-132afe2dad51"
      },
      "execution_count": null,
      "outputs": [
        {
          "output_type": "execute_result",
          "data": {
            "text/plain": [
              "array([[8, 8, 7],\n",
              "       [2, 4, 5]])"
            ]
          },
          "metadata": {},
          "execution_count": 61
        }
      ]
    },
    {
      "cell_type": "code",
      "source": [
        "arr2d[0]"
      ],
      "metadata": {
        "colab": {
          "base_uri": "https://localhost:8080/"
        },
        "id": "NYc7aC-K1Lpv",
        "outputId": "eecd80b0-6a22-448e-d2f2-f345a1573ef7"
      },
      "execution_count": null,
      "outputs": [
        {
          "output_type": "execute_result",
          "data": {
            "text/plain": [
              "array([8, 8, 7])"
            ]
          },
          "metadata": {},
          "execution_count": 62
        }
      ]
    },
    {
      "cell_type": "code",
      "source": [
        "arr2d[0][1]"
      ],
      "metadata": {
        "colab": {
          "base_uri": "https://localhost:8080/"
        },
        "id": "d4b1aLZ31SrC",
        "outputId": "0835d3a6-268e-4298-ed53-b074b7cb7e72"
      },
      "execution_count": null,
      "outputs": [
        {
          "output_type": "execute_result",
          "data": {
            "text/plain": [
              "8"
            ]
          },
          "metadata": {},
          "execution_count": 63
        }
      ]
    },
    {
      "cell_type": "code",
      "source": [
        "arr3d"
      ],
      "metadata": {
        "colab": {
          "base_uri": "https://localhost:8080/"
        },
        "id": "2FgvRn7_1W8G",
        "outputId": "5d3b80cc-8ae4-43c7-e200-3a3c4a755823"
      },
      "execution_count": null,
      "outputs": [
        {
          "output_type": "execute_result",
          "data": {
            "text/plain": [
              "array([[[  1,   2,   3],\n",
              "        [  4,   5,   6]],\n",
              "\n",
              "       [[  7,   8,   9],\n",
              "        [100, 200, 300]]])"
            ]
          },
          "metadata": {},
          "execution_count": 64
        }
      ]
    },
    {
      "cell_type": "code",
      "source": [
        "arr3d[0][1][2]"
      ],
      "metadata": {
        "colab": {
          "base_uri": "https://localhost:8080/"
        },
        "id": "6q892vJQ1lVm",
        "outputId": "208c90e3-2d87-42b8-e5fc-f720f3167d43"
      },
      "execution_count": null,
      "outputs": [
        {
          "output_type": "execute_result",
          "data": {
            "text/plain": [
              "6"
            ]
          },
          "metadata": {},
          "execution_count": 66
        }
      ]
    },
    {
      "cell_type": "code",
      "source": [
        "arr3d[1][0][-1] #negatif indeksleme"
      ],
      "metadata": {
        "colab": {
          "base_uri": "https://localhost:8080/"
        },
        "id": "8DiYWWMC1rOm",
        "outputId": "227c8bd3-9f11-4465-f6d6-7da64a8d2202"
      },
      "execution_count": null,
      "outputs": [
        {
          "output_type": "execute_result",
          "data": {
            "text/plain": [
              "9"
            ]
          },
          "metadata": {},
          "execution_count": 67
        }
      ]
    },
    {
      "cell_type": "code",
      "source": [
        "# Soru : 53'den 61'e kadar(53 ve 61 dahil) olan tam sayıları içeren bir array oluşturun. Ardından bu array'in 4.indexindeki sayıyı ekrana bastırın."
      ],
      "metadata": {
        "id": "5wuNjNqr2BCn"
      },
      "execution_count": null,
      "outputs": []
    },
    {
      "cell_type": "code",
      "source": [
        "arr = np.arange(53,62)\n",
        "arr"
      ],
      "metadata": {
        "colab": {
          "base_uri": "https://localhost:8080/"
        },
        "id": "8bfQ_g--2Jt8",
        "outputId": "1db0031b-cf4b-49f5-813b-276d6a49924c"
      },
      "execution_count": null,
      "outputs": [
        {
          "output_type": "execute_result",
          "data": {
            "text/plain": [
              "array([53, 54, 55, 56, 57, 58, 59, 60, 61])"
            ]
          },
          "metadata": {},
          "execution_count": 72
        }
      ]
    },
    {
      "cell_type": "code",
      "source": [
        "arr[4]"
      ],
      "metadata": {
        "colab": {
          "base_uri": "https://localhost:8080/"
        },
        "id": "IHbYajBR2Uih",
        "outputId": "2480b614-3dfd-426c-a138-2217f172842a"
      },
      "execution_count": null,
      "outputs": [
        {
          "output_type": "execute_result",
          "data": {
            "text/plain": [
              "57"
            ]
          },
          "metadata": {},
          "execution_count": 70
        }
      ]
    },
    {
      "cell_type": "code",
      "source": [
        "arr = np.arange(53,62)[4]\n",
        "arr\n"
      ],
      "metadata": {
        "colab": {
          "base_uri": "https://localhost:8080/"
        },
        "id": "DbgGCNIa2bGq",
        "outputId": "812e2652-1483-4ec5-da32-7a614c14281e"
      },
      "execution_count": null,
      "outputs": [
        {
          "output_type": "execute_result",
          "data": {
            "text/plain": [
              "57"
            ]
          },
          "metadata": {},
          "execution_count": 74
        }
      ]
    },
    {
      "cell_type": "code",
      "source": [
        "arr"
      ],
      "metadata": {
        "colab": {
          "base_uri": "https://localhost:8080/"
        },
        "id": "8h0zb97c292z",
        "outputId": "7f67efca-5bac-4d06-d9f5-ea20d62e7970"
      },
      "execution_count": null,
      "outputs": [
        {
          "output_type": "execute_result",
          "data": {
            "text/plain": [
              "57"
            ]
          },
          "metadata": {},
          "execution_count": 75
        }
      ]
    },
    {
      "cell_type": "code",
      "source": [],
      "metadata": {
        "id": "Ns8odEfF3Dmv"
      },
      "execution_count": null,
      "outputs": []
    },
    {
      "cell_type": "markdown",
      "source": [
        "# NumPy Dizilerinin Max- Min Elemanlarına ve bu elemanların indexlerine erişme"
      ],
      "metadata": {
        "id": "09_wkEpW3Fme"
      }
    },
    {
      "cell_type": "code",
      "source": [
        "arr = np.random.randint(1,100,10)\n",
        "arr"
      ],
      "metadata": {
        "colab": {
          "base_uri": "https://localhost:8080/"
        },
        "id": "GyEu51cM3Pwe",
        "outputId": "d0cbf8e9-d9c9-4e8c-ef42-15949c7591f5"
      },
      "execution_count": null,
      "outputs": [
        {
          "output_type": "execute_result",
          "data": {
            "text/plain": [
              "array([34, 79, 42, 23, 79, 99, 42, 41, 65, 22])"
            ]
          },
          "metadata": {},
          "execution_count": 76
        }
      ]
    },
    {
      "cell_type": "code",
      "source": [
        "arr.max()"
      ],
      "metadata": {
        "colab": {
          "base_uri": "https://localhost:8080/"
        },
        "id": "143vk5Pf3UtR",
        "outputId": "c6d9e9f2-e19a-4b30-9c65-85dbcb3a1ce6"
      },
      "execution_count": null,
      "outputs": [
        {
          "output_type": "execute_result",
          "data": {
            "text/plain": [
              "99"
            ]
          },
          "metadata": {},
          "execution_count": 77
        }
      ]
    },
    {
      "cell_type": "code",
      "source": [
        "arr.argmax() # max değerin indexi"
      ],
      "metadata": {
        "colab": {
          "base_uri": "https://localhost:8080/"
        },
        "id": "cgEosmhb3WVq",
        "outputId": "e6030802-8378-426b-d1f7-feecd89657a2"
      },
      "execution_count": null,
      "outputs": [
        {
          "output_type": "execute_result",
          "data": {
            "text/plain": [
              "5"
            ]
          },
          "metadata": {},
          "execution_count": 78
        }
      ]
    },
    {
      "cell_type": "code",
      "source": [
        "arr.min()"
      ],
      "metadata": {
        "colab": {
          "base_uri": "https://localhost:8080/"
        },
        "id": "bZv8up0i3cdC",
        "outputId": "e81c9169-8dbf-4b87-f666-f4122af4aeef"
      },
      "execution_count": null,
      "outputs": [
        {
          "output_type": "execute_result",
          "data": {
            "text/plain": [
              "22"
            ]
          },
          "metadata": {},
          "execution_count": 79
        }
      ]
    },
    {
      "cell_type": "code",
      "source": [
        "arr.argmin() "
      ],
      "metadata": {
        "colab": {
          "base_uri": "https://localhost:8080/"
        },
        "id": "MdKhbF3U3oMO",
        "outputId": "f046c262-579e-452e-92e0-092f0036b9cd"
      },
      "execution_count": null,
      "outputs": [
        {
          "output_type": "execute_result",
          "data": {
            "text/plain": [
              "9"
            ]
          },
          "metadata": {},
          "execution_count": 80
        }
      ]
    },
    {
      "cell_type": "code",
      "source": [],
      "metadata": {
        "id": "eUS8zJKt3qhz"
      },
      "execution_count": null,
      "outputs": []
    },
    {
      "cell_type": "markdown",
      "source": [
        "# NumPy arraylerinde Slicing(Dilimleme) yapılabilir."
      ],
      "metadata": {
        "id": "dfhPms5q3ypv"
      }
    },
    {
      "cell_type": "code",
      "source": [
        "arr = np.arange(50,65)\n",
        "arr"
      ],
      "metadata": {
        "colab": {
          "base_uri": "https://localhost:8080/"
        },
        "id": "wzyQYP8k35Zl",
        "outputId": "3972b6d5-2e62-4e7b-cb36-638cd2fe6934"
      },
      "execution_count": null,
      "outputs": [
        {
          "output_type": "execute_result",
          "data": {
            "text/plain": [
              "array([50, 51, 52, 53, 54, 55, 56, 57, 58, 59, 60, 61, 62, 63, 64])"
            ]
          },
          "metadata": {},
          "execution_count": 82
        }
      ]
    },
    {
      "cell_type": "code",
      "source": [
        "arr[5:11] # 10 dahil şu an"
      ],
      "metadata": {
        "colab": {
          "base_uri": "https://localhost:8080/"
        },
        "id": "uJczyV2O4Ap5",
        "outputId": "5fa235d3-58c0-46dd-e462-bac55048cab7"
      },
      "execution_count": null,
      "outputs": [
        {
          "output_type": "execute_result",
          "data": {
            "text/plain": [
              "array([55, 56, 57, 58, 59, 60])"
            ]
          },
          "metadata": {},
          "execution_count": 83
        }
      ]
    },
    {
      "cell_type": "code",
      "source": [
        "arr[-5:] #sonuna kadar git"
      ],
      "metadata": {
        "colab": {
          "base_uri": "https://localhost:8080/"
        },
        "id": "57Eet1PS4VGj",
        "outputId": "520b04be-c2ca-4d45-ff95-6efc0effa9b4"
      },
      "execution_count": null,
      "outputs": [
        {
          "output_type": "execute_result",
          "data": {
            "text/plain": [
              "array([60, 61, 62, 63, 64])"
            ]
          },
          "metadata": {},
          "execution_count": 84
        }
      ]
    },
    {
      "cell_type": "code",
      "source": [
        "arr[2:10:2] # ikişer ikişer gider"
      ],
      "metadata": {
        "colab": {
          "base_uri": "https://localhost:8080/"
        },
        "id": "Qo0YC9Ls420F",
        "outputId": "0f1b9433-6035-431c-c8f2-0d2c3f34f9fe"
      },
      "execution_count": null,
      "outputs": [
        {
          "output_type": "execute_result",
          "data": {
            "text/plain": [
              "array([52, 54, 56, 58])"
            ]
          },
          "metadata": {},
          "execution_count": 85
        }
      ]
    },
    {
      "cell_type": "code",
      "source": [
        "arr[5:11] = 999 #Broadcasting 5-11 arasındaki tüm değerleri 999 a eşitler."
      ],
      "metadata": {
        "id": "V-5MG2Oo46kh"
      },
      "execution_count": null,
      "outputs": []
    },
    {
      "cell_type": "code",
      "source": [
        "arr"
      ],
      "metadata": {
        "colab": {
          "base_uri": "https://localhost:8080/"
        },
        "id": "cmezQPrW5cGe",
        "outputId": "7514839b-d9b1-405b-f57f-05057205dc3f"
      },
      "execution_count": null,
      "outputs": [
        {
          "output_type": "execute_result",
          "data": {
            "text/plain": [
              "array([ 50,  51,  52,  53,  54, 999, 999, 999, 999, 999, 999,  61,  62,\n",
              "        63,  64])"
            ]
          },
          "metadata": {},
          "execution_count": 88
        }
      ]
    },
    {
      "cell_type": "code",
      "source": [
        "# -30 ile 10(İkisi de dahil) arasındaki tam sayılardan bir array oluşturun. Ardından slicing yaparak 5. ve 18. indexler arasındaki sayılardan(ikisi de dahil) oluşan bir array oluşturun."
      ],
      "metadata": {
        "id": "wDHXcLRO5peZ"
      },
      "execution_count": null,
      "outputs": []
    },
    {
      "cell_type": "code",
      "source": [
        "arr1 = np.arange(-30,11)"
      ],
      "metadata": {
        "id": "37awJou05x6_"
      },
      "execution_count": null,
      "outputs": []
    },
    {
      "cell_type": "code",
      "source": [
        "arr1"
      ],
      "metadata": {
        "colab": {
          "base_uri": "https://localhost:8080/"
        },
        "id": "Zf8WrnXy6JEP",
        "outputId": "bf6eeb2f-9822-4266-ecd2-95bca539a1fb"
      },
      "execution_count": null,
      "outputs": [
        {
          "output_type": "execute_result",
          "data": {
            "text/plain": [
              "array([-30, -29, -28, -27, -26, -25, -24, -23, -22, -21, -20, -19, -18,\n",
              "       -17, -16, -15, -14, -13, -12, -11, -10,  -9,  -8,  -7,  -6,  -5,\n",
              "        -4,  -3,  -2,  -1,   0,   1,   2,   3,   4,   5,   6,   7,   8,\n",
              "         9,  10])"
            ]
          },
          "metadata": {},
          "execution_count": 94
        }
      ]
    },
    {
      "cell_type": "code",
      "source": [
        "arr1[5:19]"
      ],
      "metadata": {
        "colab": {
          "base_uri": "https://localhost:8080/"
        },
        "id": "T_FZ-bTU6UiU",
        "outputId": "864704aa-7228-4e26-b1a5-a5253cda870a"
      },
      "execution_count": null,
      "outputs": [
        {
          "output_type": "execute_result",
          "data": {
            "text/plain": [
              "array([-25, -24, -23, -22, -21, -20, -19, -18, -17, -16, -15, -14, -13,\n",
              "       -12])"
            ]
          },
          "metadata": {},
          "execution_count": 96
        }
      ]
    },
    {
      "cell_type": "markdown",
      "source": [
        "# Bir Arrayin Veri Türünü (Data Type'ını) Kontrol Etme"
      ],
      "metadata": {
        "id": "3tBAKgax60lY"
      }
    },
    {
      "cell_type": "code",
      "source": [
        "#.dtype attribute'ı ile arrayin data type'ı kontrol edilelbilir."
      ],
      "metadata": {
        "id": "o-uGBVPM678d"
      },
      "execution_count": null,
      "outputs": []
    },
    {
      "cell_type": "code",
      "source": [
        "arr = np.arange(10)\n",
        "arr"
      ],
      "metadata": {
        "colab": {
          "base_uri": "https://localhost:8080/"
        },
        "id": "S1LaHgiQ7SWr",
        "outputId": "036a293b-d648-4080-a7a9-abc5d9e69425"
      },
      "execution_count": null,
      "outputs": [
        {
          "output_type": "execute_result",
          "data": {
            "text/plain": [
              "array([0, 1, 2, 3, 4, 5, 6, 7, 8, 9])"
            ]
          },
          "metadata": {},
          "execution_count": 98
        }
      ]
    },
    {
      "cell_type": "code",
      "source": [
        "arr.dtype"
      ],
      "metadata": {
        "colab": {
          "base_uri": "https://localhost:8080/"
        },
        "id": "x0vTqqbr7VP9",
        "outputId": "dadcf234-ad98-4b4a-e1f4-790c1cbbaffb"
      },
      "execution_count": null,
      "outputs": [
        {
          "output_type": "execute_result",
          "data": {
            "text/plain": [
              "dtype('int64')"
            ]
          },
          "metadata": {},
          "execution_count": 99
        }
      ]
    },
    {
      "cell_type": "code",
      "source": [
        "arr2 = np.arange(100, dtype = 'float')\n",
        "arr2"
      ],
      "metadata": {
        "colab": {
          "base_uri": "https://localhost:8080/"
        },
        "id": "uXdVQ8rQ7YRB",
        "outputId": "ce0a23df-73e7-4aeb-9670-b3c18cd72cb8"
      },
      "execution_count": null,
      "outputs": [
        {
          "output_type": "execute_result",
          "data": {
            "text/plain": [
              "array([ 0.,  1.,  2.,  3.,  4.,  5.,  6.,  7.,  8.,  9., 10., 11., 12.,\n",
              "       13., 14., 15., 16., 17., 18., 19., 20., 21., 22., 23., 24., 25.,\n",
              "       26., 27., 28., 29., 30., 31., 32., 33., 34., 35., 36., 37., 38.,\n",
              "       39., 40., 41., 42., 43., 44., 45., 46., 47., 48., 49., 50., 51.,\n",
              "       52., 53., 54., 55., 56., 57., 58., 59., 60., 61., 62., 63., 64.,\n",
              "       65., 66., 67., 68., 69., 70., 71., 72., 73., 74., 75., 76., 77.,\n",
              "       78., 79., 80., 81., 82., 83., 84., 85., 86., 87., 88., 89., 90.,\n",
              "       91., 92., 93., 94., 95., 96., 97., 98., 99.])"
            ]
          },
          "metadata": {},
          "execution_count": 101
        }
      ]
    },
    {
      "cell_type": "code",
      "source": [
        "arr2.dtype\n"
      ],
      "metadata": {
        "colab": {
          "base_uri": "https://localhost:8080/"
        },
        "id": "Y_Upxqkp7jRz",
        "outputId": "1aa9b49e-232a-413b-a741-3a5c97ccb12f"
      },
      "execution_count": null,
      "outputs": [
        {
          "output_type": "execute_result",
          "data": {
            "text/plain": [
              "dtype('float64')"
            ]
          },
          "metadata": {},
          "execution_count": 102
        }
      ]
    },
    {
      "cell_type": "code",
      "source": [
        "arr3 = np.array(['a','b','c'])\n",
        "arr3"
      ],
      "metadata": {
        "colab": {
          "base_uri": "https://localhost:8080/"
        },
        "id": "gKMWGiAO7pLG",
        "outputId": "a8e8dd98-1995-42c0-e5dc-683eb8c940c9"
      },
      "execution_count": null,
      "outputs": [
        {
          "output_type": "execute_result",
          "data": {
            "text/plain": [
              "array(['a', 'b', 'c'], dtype='<U1')"
            ]
          },
          "metadata": {},
          "execution_count": 103
        }
      ]
    },
    {
      "cell_type": "code",
      "source": [
        "arr3.dtype"
      ],
      "metadata": {
        "colab": {
          "base_uri": "https://localhost:8080/"
        },
        "id": "XyyoAKEJ7xIV",
        "outputId": "17f4081c-b5bf-481d-8764-287a9d0f677b"
      },
      "execution_count": null,
      "outputs": [
        {
          "output_type": "execute_result",
          "data": {
            "text/plain": [
              "dtype('<U1')"
            ]
          },
          "metadata": {},
          "execution_count": 104
        }
      ]
    },
    {
      "cell_type": "code",
      "source": [],
      "metadata": {
        "id": "J8UO_b1v7ymF"
      },
      "execution_count": null,
      "outputs": []
    },
    {
      "cell_type": "markdown",
      "source": [
        "# Bir Arrayin Dtype ını Değiştirme"
      ],
      "metadata": {
        "id": "nfR5xm0X72Lt"
      }
    },
    {
      "cell_type": "code",
      "source": [
        "arr = np.array([1.2, 3.5, 5.8])\n",
        "arr"
      ],
      "metadata": {
        "colab": {
          "base_uri": "https://localhost:8080/"
        },
        "id": "-lhbVHgg76q4",
        "outputId": "522fd2b2-621d-4fa8-b653-5f6d0bd88b29"
      },
      "execution_count": null,
      "outputs": [
        {
          "output_type": "execute_result",
          "data": {
            "text/plain": [
              "array([1.2, 3.5, 5.8])"
            ]
          },
          "metadata": {},
          "execution_count": 105
        }
      ]
    },
    {
      "cell_type": "code",
      "source": [
        "arr.dtype"
      ],
      "metadata": {
        "colab": {
          "base_uri": "https://localhost:8080/"
        },
        "id": "EuyQWnoq8AqX",
        "outputId": "a376419b-35aa-42ce-ff32-8ec6321ec864"
      },
      "execution_count": null,
      "outputs": [
        {
          "output_type": "execute_result",
          "data": {
            "text/plain": [
              "dtype('float64')"
            ]
          },
          "metadata": {},
          "execution_count": 106
        }
      ]
    },
    {
      "cell_type": "code",
      "source": [
        "# .astype() methodu ile arraylerin dtype ı değiştirilebilir."
      ],
      "metadata": {
        "id": "oQx4kVv_8Bwn"
      },
      "execution_count": null,
      "outputs": []
    },
    {
      "cell_type": "code",
      "source": [
        "arr.astype('int')\n"
      ],
      "metadata": {
        "colab": {
          "base_uri": "https://localhost:8080/"
        },
        "id": "3N_Aoirv8JDI",
        "outputId": "f73196e0-54eb-437c-ecc1-f0d203a9722b"
      },
      "execution_count": null,
      "outputs": [
        {
          "output_type": "execute_result",
          "data": {
            "text/plain": [
              "array([1, 3, 5])"
            ]
          },
          "metadata": {},
          "execution_count": 108
        }
      ]
    },
    {
      "cell_type": "code",
      "source": [
        "# Soru :\n",
        "# arr = np.array(['5', '7', '19', '1', '22', '99', '4']) şeklindeki array'in type'ını int'e döndürün ardından dtype'ını kontrol edin."
      ],
      "metadata": {
        "id": "e0VEh1Up8Nk9"
      },
      "execution_count": null,
      "outputs": []
    },
    {
      "cell_type": "code",
      "source": [],
      "metadata": {
        "id": "xid2HW_n8f5I"
      },
      "execution_count": null,
      "outputs": []
    },
    {
      "cell_type": "code",
      "source": [
        "arr = np.array(['5', '7', '19', '1', '22', '99', '4'])\n",
        "arr1 = arr.astype('int')\n",
        "arr1.dtype"
      ],
      "metadata": {
        "colab": {
          "base_uri": "https://localhost:8080/"
        },
        "id": "tZAZHB478Tap",
        "outputId": "289b7a69-57b4-4ddb-bf30-76fd26ed27ae"
      },
      "execution_count": null,
      "outputs": [
        {
          "output_type": "execute_result",
          "data": {
            "text/plain": [
              "dtype('int64')"
            ]
          },
          "metadata": {},
          "execution_count": 112
        }
      ]
    },
    {
      "cell_type": "code",
      "source": [],
      "metadata": {
        "id": "avFhdN9F8lyp"
      },
      "execution_count": null,
      "outputs": []
    }
  ]
}